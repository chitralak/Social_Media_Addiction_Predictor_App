{
 "cells": [
  {
   "cell_type": "code",
   "execution_count": 4,
   "id": "89899bb0-aea5-4a03-a5cc-f77467749fc5",
   "metadata": {},
   "outputs": [
    {
     "name": "stdout",
     "output_type": "stream",
     "text": [
      "Accuracy: 0.9219858156028369\n",
      "\n",
      "Classification Report:\n",
      "               precision    recall  f1-score   support\n",
      "\n",
      "           0       0.93      0.89      0.91        62\n",
      "           1       0.91      0.95      0.93        79\n",
      "\n",
      "    accuracy                           0.92       141\n",
      "   macro avg       0.92      0.92      0.92       141\n",
      "weighted avg       0.92      0.92      0.92       141\n",
      "\n",
      "\n",
      "Confusion Matrix:\n",
      " [[55  7]\n",
      " [ 4 75]]\n"
     ]
    },
    {
     "data": {
      "text/plain": [
       "['social_media_addiction.pkl']"
      ]
     },
     "execution_count": 4,
     "metadata": {},
     "output_type": "execute_result"
    }
   ],
   "source": [
    "import pandas as pd\n",
    "from sklearn.model_selection import train_test_split\n",
    "from sklearn.preprocessing import LabelEncoder\n",
    "from sklearn.linear_model import LogisticRegression\n",
    "from sklearn.metrics import accuracy_score,classification_report,confusion_matrix\n",
    "import joblib\n",
    "#Loading Dataset\n",
    "df=pd.read_csv(\"student_social_media_addiction.csv\")\n",
    "#Data Cleaning\n",
    "df=df.drop(['Student_ID','Gender','Country','Relationship_Status',],axis=1)\n",
    "df=df.dropna()\n",
    "#converting categorical column to numerical\n",
    "academic = LabelEncoder()\n",
    "df['Academic_Level']=academic.fit_transform(df['Academic_Level'])\n",
    "\n",
    "platform = LabelEncoder()\n",
    "df['Most_Used_Platform']=platform.fit_transform(df['Most_Used_Platform'])\n",
    "\n",
    "affect = LabelEncoder()\n",
    "df['Affects_Academic_Performance']=affect.fit_transform(df['Affects_Academic_Performance'])\n",
    "\n",
    "# Save most used platform for app usage\n",
    "joblib.dump(platform, 'platform_encoder.pkl')\n",
    "joblib.dump(academic,'academic_encoder.pkl')\n",
    "joblib.dump(affect,'affect_encoder.pkl')\n",
    "#scaling the data\n",
    "sc=preprocessing.StandardScaler()\n",
    "df[['Avg_Daily_Usage_Hours','Sleep_Hours_Per_Night','Mental_Health_Score']]=sc.fit_transform(df[['Avg_Daily_Usage_Hours','Sleep_Hours_Per_Night','Mental_Health_Score']])\n",
    "#Feature and target\n",
    "df['Addicted']=df['Addicted_Score'].apply(lambda x:1 if x>=7 else 0)\n",
    "X=df[['Age','Academic_Level','Affects_Academic_Performance','Avg_Daily_Usage_Hours','Most_Used_Platform','Sleep_Hours_Per_Night']]  \n",
    "y=df['Addicted']\n",
    "\n",
    "#splitting the data for training and testing\n",
    "X_train,X_test,y_train,y_test=train_test_split(X,y,test_size=0.2,random_state=42)\n",
    "#Model selection\n",
    "model= LogisticRegression(max_iter=1000)\n",
    "model.fit(X_train,y_train)\n",
    "y_pred = model.predict(X_test)\n",
    "print(\"Accuracy:\", accuracy_score(y_test, y_pred))\n",
    "print(\"\\nClassification Report:\\n\", classification_report(y_test, y_pred))\n",
    "print(\"\\nConfusion Matrix:\\n\", confusion_matrix(y_test, y_pred))\n",
    "\n",
    "joblib.dump(model,\"social_media_addiction.pkl\")"
   ]
  },
  {
   "cell_type": "code",
   "execution_count": null,
   "id": "f06b155b-ee5d-4caf-ad47-51197c530083",
   "metadata": {},
   "outputs": [],
   "source": []
  }
 ],
 "metadata": {
  "kernelspec": {
   "display_name": "Python [conda env:base] *",
   "language": "python",
   "name": "conda-base-py"
  },
  "language_info": {
   "codemirror_mode": {
    "name": "ipython",
    "version": 3
   },
   "file_extension": ".py",
   "mimetype": "text/x-python",
   "name": "python",
   "nbconvert_exporter": "python",
   "pygments_lexer": "ipython3",
   "version": "3.12.7"
  }
 },
 "nbformat": 4,
 "nbformat_minor": 5
}
